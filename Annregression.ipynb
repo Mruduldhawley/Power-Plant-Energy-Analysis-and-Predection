{
  "nbformat": 4,
  "nbformat_minor": 0,
  "metadata": {
    "colab": {
      "name": "Annregression.ipynb",
      "provenance": []
    },
    "kernelspec": {
      "name": "python3",
      "display_name": "Python 3"
    },
    "language_info": {
      "name": "python"
    }
  },
  "cells": [
    {
      "cell_type": "code",
      "metadata": {
        "id": "MovIuTZXNy6N"
      },
      "source": [
        "import numpy as np\n",
        "import pandas as pd\n",
        "import tensorflow as tf\n",
        "import matplotlib.pyplot as plt\n",
        "import seaborn as sns\n",
        "\n",
        "%matplotlib inline"
      ],
      "execution_count": null,
      "outputs": []
    },
    {
      "cell_type": "markdown",
      "metadata": {
        "id": "-ACuzqbUQMar"
      },
      "source": [
        "**DATA PREPROCESSING**"
      ]
    },
    {
      "cell_type": "code",
      "metadata": {
        "id": "b5oCIzFVP9uq"
      },
      "source": [
        "df = pd.read_excel('Folds5x2_pp.xlsx')"
      ],
      "execution_count": null,
      "outputs": []
    },
    {
      "cell_type": "code",
      "metadata": {
        "colab": {
          "base_uri": "https://localhost:8080/",
          "height": 202
        },
        "id": "UfAGpIhNQp-q",
        "outputId": "0d6f19a8-e203-4d84-f553-ad32b338156a"
      },
      "source": [
        "df.head()"
      ],
      "execution_count": null,
      "outputs": [
        {
          "output_type": "execute_result",
          "data": {
            "text/html": [
              "<div>\n",
              "<style scoped>\n",
              "    .dataframe tbody tr th:only-of-type {\n",
              "        vertical-align: middle;\n",
              "    }\n",
              "\n",
              "    .dataframe tbody tr th {\n",
              "        vertical-align: top;\n",
              "    }\n",
              "\n",
              "    .dataframe thead th {\n",
              "        text-align: right;\n",
              "    }\n",
              "</style>\n",
              "<table border=\"1\" class=\"dataframe\">\n",
              "  <thead>\n",
              "    <tr style=\"text-align: right;\">\n",
              "      <th></th>\n",
              "      <th>AT</th>\n",
              "      <th>V</th>\n",
              "      <th>AP</th>\n",
              "      <th>RH</th>\n",
              "      <th>PE</th>\n",
              "    </tr>\n",
              "  </thead>\n",
              "  <tbody>\n",
              "    <tr>\n",
              "      <th>0</th>\n",
              "      <td>14.96</td>\n",
              "      <td>41.76</td>\n",
              "      <td>1024.07</td>\n",
              "      <td>73.17</td>\n",
              "      <td>463.26</td>\n",
              "    </tr>\n",
              "    <tr>\n",
              "      <th>1</th>\n",
              "      <td>25.18</td>\n",
              "      <td>62.96</td>\n",
              "      <td>1020.04</td>\n",
              "      <td>59.08</td>\n",
              "      <td>444.37</td>\n",
              "    </tr>\n",
              "    <tr>\n",
              "      <th>2</th>\n",
              "      <td>5.11</td>\n",
              "      <td>39.40</td>\n",
              "      <td>1012.16</td>\n",
              "      <td>92.14</td>\n",
              "      <td>488.56</td>\n",
              "    </tr>\n",
              "    <tr>\n",
              "      <th>3</th>\n",
              "      <td>20.86</td>\n",
              "      <td>57.32</td>\n",
              "      <td>1010.24</td>\n",
              "      <td>76.64</td>\n",
              "      <td>446.48</td>\n",
              "    </tr>\n",
              "    <tr>\n",
              "      <th>4</th>\n",
              "      <td>10.82</td>\n",
              "      <td>37.50</td>\n",
              "      <td>1009.23</td>\n",
              "      <td>96.62</td>\n",
              "      <td>473.90</td>\n",
              "    </tr>\n",
              "  </tbody>\n",
              "</table>\n",
              "</div>"
            ],
            "text/plain": [
              "      AT      V       AP     RH      PE\n",
              "0  14.96  41.76  1024.07  73.17  463.26\n",
              "1  25.18  62.96  1020.04  59.08  444.37\n",
              "2   5.11  39.40  1012.16  92.14  488.56\n",
              "3  20.86  57.32  1010.24  76.64  446.48\n",
              "4  10.82  37.50  1009.23  96.62  473.90"
            ]
          },
          "metadata": {},
          "execution_count": 5
        }
      ]
    },
    {
      "cell_type": "code",
      "metadata": {
        "colab": {
          "base_uri": "https://localhost:8080/"
        },
        "id": "dbEFqmHdQuBR",
        "outputId": "f2373135-d896-4134-cecf-81f0b135eb1a"
      },
      "source": [
        "df.isnull().sum()"
      ],
      "execution_count": null,
      "outputs": [
        {
          "output_type": "execute_result",
          "data": {
            "text/plain": [
              "AT    0\n",
              "V     0\n",
              "AP    0\n",
              "RH    0\n",
              "PE    0\n",
              "dtype: int64"
            ]
          },
          "metadata": {},
          "execution_count": 6
        }
      ]
    },
    {
      "cell_type": "code",
      "metadata": {
        "colab": {
          "base_uri": "https://localhost:8080/"
        },
        "id": "CeHh4Rj_SAVr",
        "outputId": "089aaf26-1e6e-4c0d-9ba0-2734f2d09bbe"
      },
      "source": [
        "df.info()"
      ],
      "execution_count": null,
      "outputs": [
        {
          "output_type": "stream",
          "name": "stdout",
          "text": [
            "<class 'pandas.core.frame.DataFrame'>\n",
            "RangeIndex: 9568 entries, 0 to 9567\n",
            "Data columns (total 5 columns):\n",
            " #   Column  Non-Null Count  Dtype  \n",
            "---  ------  --------------  -----  \n",
            " 0   AT      9568 non-null   float64\n",
            " 1   V       9568 non-null   float64\n",
            " 2   AP      9568 non-null   float64\n",
            " 3   RH      9568 non-null   float64\n",
            " 4   PE      9568 non-null   float64\n",
            "dtypes: float64(5)\n",
            "memory usage: 373.9 KB\n"
          ]
        }
      ]
    },
    {
      "cell_type": "code",
      "metadata": {
        "colab": {
          "base_uri": "https://localhost:8080/",
          "height": 202
        },
        "id": "5Y-_5mG1dXxI",
        "outputId": "a1b47d31-9ddd-42af-f1d6-f366d215d11a"
      },
      "source": [
        "df.describe().T"
      ],
      "execution_count": null,
      "outputs": [
        {
          "output_type": "execute_result",
          "data": {
            "text/html": [
              "<div>\n",
              "<style scoped>\n",
              "    .dataframe tbody tr th:only-of-type {\n",
              "        vertical-align: middle;\n",
              "    }\n",
              "\n",
              "    .dataframe tbody tr th {\n",
              "        vertical-align: top;\n",
              "    }\n",
              "\n",
              "    .dataframe thead th {\n",
              "        text-align: right;\n",
              "    }\n",
              "</style>\n",
              "<table border=\"1\" class=\"dataframe\">\n",
              "  <thead>\n",
              "    <tr style=\"text-align: right;\">\n",
              "      <th></th>\n",
              "      <th>count</th>\n",
              "      <th>mean</th>\n",
              "      <th>std</th>\n",
              "      <th>min</th>\n",
              "      <th>25%</th>\n",
              "      <th>50%</th>\n",
              "      <th>75%</th>\n",
              "      <th>max</th>\n",
              "    </tr>\n",
              "  </thead>\n",
              "  <tbody>\n",
              "    <tr>\n",
              "      <th>AT</th>\n",
              "      <td>9568.0</td>\n",
              "      <td>19.651231</td>\n",
              "      <td>7.452473</td>\n",
              "      <td>1.81</td>\n",
              "      <td>13.5100</td>\n",
              "      <td>20.345</td>\n",
              "      <td>25.72</td>\n",
              "      <td>37.11</td>\n",
              "    </tr>\n",
              "    <tr>\n",
              "      <th>V</th>\n",
              "      <td>9568.0</td>\n",
              "      <td>54.305804</td>\n",
              "      <td>12.707893</td>\n",
              "      <td>25.36</td>\n",
              "      <td>41.7400</td>\n",
              "      <td>52.080</td>\n",
              "      <td>66.54</td>\n",
              "      <td>81.56</td>\n",
              "    </tr>\n",
              "    <tr>\n",
              "      <th>AP</th>\n",
              "      <td>9568.0</td>\n",
              "      <td>1013.259078</td>\n",
              "      <td>5.938784</td>\n",
              "      <td>992.89</td>\n",
              "      <td>1009.1000</td>\n",
              "      <td>1012.940</td>\n",
              "      <td>1017.26</td>\n",
              "      <td>1033.30</td>\n",
              "    </tr>\n",
              "    <tr>\n",
              "      <th>RH</th>\n",
              "      <td>9568.0</td>\n",
              "      <td>73.308978</td>\n",
              "      <td>14.600269</td>\n",
              "      <td>25.56</td>\n",
              "      <td>63.3275</td>\n",
              "      <td>74.975</td>\n",
              "      <td>84.83</td>\n",
              "      <td>100.16</td>\n",
              "    </tr>\n",
              "    <tr>\n",
              "      <th>PE</th>\n",
              "      <td>9568.0</td>\n",
              "      <td>454.365009</td>\n",
              "      <td>17.066995</td>\n",
              "      <td>420.26</td>\n",
              "      <td>439.7500</td>\n",
              "      <td>451.550</td>\n",
              "      <td>468.43</td>\n",
              "      <td>495.76</td>\n",
              "    </tr>\n",
              "  </tbody>\n",
              "</table>\n",
              "</div>"
            ],
            "text/plain": [
              "     count         mean        std  ...       50%      75%      max\n",
              "AT  9568.0    19.651231   7.452473  ...    20.345    25.72    37.11\n",
              "V   9568.0    54.305804  12.707893  ...    52.080    66.54    81.56\n",
              "AP  9568.0  1013.259078   5.938784  ...  1012.940  1017.26  1033.30\n",
              "RH  9568.0    73.308978  14.600269  ...    74.975    84.83   100.16\n",
              "PE  9568.0   454.365009  17.066995  ...   451.550   468.43   495.76\n",
              "\n",
              "[5 rows x 8 columns]"
            ]
          },
          "metadata": {},
          "execution_count": 34
        }
      ]
    },
    {
      "cell_type": "code",
      "metadata": {
        "colab": {
          "base_uri": "https://localhost:8080/",
          "height": 607
        },
        "id": "ugF85ptjdeAy",
        "outputId": "21d16774-db08-4fd7-bd64-8fbb5da81b67"
      },
      "source": [
        "df.hist(bins=30, figsize=(15,10),layout=(3,2));"
      ],
      "execution_count": null,
      "outputs": [
        {
          "output_type": "display_data",
          "data": {
            "image/png": "[encoded data removed]",
            "text/plain": [
              "<Figure size 1080x720 with 6 Axes>"
            ]
          },
          "metadata": {
            "needs_background": "light"
          }
        }
      ]
    },
    {
      "cell_type": "code",
      "metadata": {
        "colab": {
          "base_uri": "https://localhost:8080/",
          "height": 228
        },
        "id": "e_bbJDDVdzqR",
        "outputId": "24eaafa7-ce4b-441f-84e8-45dab9531876"
      },
      "source": [
        "#box plot\n",
        "plt.figure(figsize=(5,3))\n",
        "sns.boxplot(data=df,orient='h')"
      ],
      "execution_count": null,
      "outputs": [
        {
          "output_type": "execute_result",
          "data": {
            "text/plain": [
              "<matplotlib.axes._subplots.AxesSubplot at 0x7f4e675dfad0>"
            ]
          },
          "metadata": {},
          "execution_count": 46
        },
        {
          "output_type": "display_data",
          "data": {
            "image/png": "[encoded data removed]",
            "text/plain": [
              "<Figure size 360x216 with 1 Axes>"
            ]
          },
          "metadata": {
            "needs_background": "light"
          }
        }
      ]
    },
    {
      "cell_type": "code",
      "metadata": {
        "colab": {
          "base_uri": "https://localhost:8080/",
          "height": 202
        },
        "id": "HQtp8gP9eInY",
        "outputId": "d79109b5-02b1-4be7-f53d-7c2733efd3c1"
      },
      "source": [
        "#relational matrix/relation\n",
        "df.corr()"
      ],
      "execution_count": null,
      "outputs": [
        {
          "output_type": "execute_result",
          "data": {
            "text/html": [
              "<div>\n",
              "<style scoped>\n",
              "    .dataframe tbody tr th:only-of-type {\n",
              "        vertical-align: middle;\n",
              "    }\n",
              "\n",
              "    .dataframe tbody tr th {\n",
              "        vertical-align: top;\n",
              "    }\n",
              "\n",
              "    .dataframe thead th {\n",
              "        text-align: right;\n",
              "    }\n",
              "</style>\n",
              "<table border=\"1\" class=\"dataframe\">\n",
              "  <thead>\n",
              "    <tr style=\"text-align: right;\">\n",
              "      <th></th>\n",
              "      <th>AT</th>\n",
              "      <th>V</th>\n",
              "      <th>AP</th>\n",
              "      <th>RH</th>\n",
              "      <th>PE</th>\n",
              "    </tr>\n",
              "  </thead>\n",
              "  <tbody>\n",
              "    <tr>\n",
              "      <th>AT</th>\n",
              "      <td>1.000000</td>\n",
              "      <td>0.844107</td>\n",
              "      <td>-0.507549</td>\n",
              "      <td>-0.542535</td>\n",
              "      <td>-0.948128</td>\n",
              "    </tr>\n",
              "    <tr>\n",
              "      <th>V</th>\n",
              "      <td>0.844107</td>\n",
              "      <td>1.000000</td>\n",
              "      <td>-0.413502</td>\n",
              "      <td>-0.312187</td>\n",
              "      <td>-0.869780</td>\n",
              "    </tr>\n",
              "    <tr>\n",
              "      <th>AP</th>\n",
              "      <td>-0.507549</td>\n",
              "      <td>-0.413502</td>\n",
              "      <td>1.000000</td>\n",
              "      <td>0.099574</td>\n",
              "      <td>0.518429</td>\n",
              "    </tr>\n",
              "    <tr>\n",
              "      <th>RH</th>\n",
              "      <td>-0.542535</td>\n",
              "      <td>-0.312187</td>\n",
              "      <td>0.099574</td>\n",
              "      <td>1.000000</td>\n",
              "      <td>0.389794</td>\n",
              "    </tr>\n",
              "    <tr>\n",
              "      <th>PE</th>\n",
              "      <td>-0.948128</td>\n",
              "      <td>-0.869780</td>\n",
              "      <td>0.518429</td>\n",
              "      <td>0.389794</td>\n",
              "      <td>1.000000</td>\n",
              "    </tr>\n",
              "  </tbody>\n",
              "</table>\n",
              "</div>"
            ],
            "text/plain": [
              "          AT         V        AP        RH        PE\n",
              "AT  1.000000  0.844107 -0.507549 -0.542535 -0.948128\n",
              "V   0.844107  1.000000 -0.413502 -0.312187 -0.869780\n",
              "AP -0.507549 -0.413502  1.000000  0.099574  0.518429\n",
              "RH -0.542535 -0.312187  0.099574  1.000000  0.389794\n",
              "PE -0.948128 -0.869780  0.518429  0.389794  1.000000"
            ]
          },
          "metadata": {},
          "execution_count": 47
        }
      ]
    },
    {
      "cell_type": "code",
      "metadata": {
        "colab": {
          "base_uri": "https://localhost:8080/",
          "height": 444
        },
        "id": "ufl6sDJyeKAg",
        "outputId": "f067db11-90f7-4050-df72-e7b56af776ec"
      },
      "source": [
        "\n",
        "plt.figure(figsize=(10,7))\n",
        "sns.heatmap(df.corr(),vmax=1,square=True,annot=True)\n",
        "plt.title(\"Corelation Heat Map\")\n",
        "plt.show()\n"
      ],
      "execution_count": null,
      "outputs": [
        {
          "output_type": "display_data",
          "data": {
            "image/png": "[encoded data removed]",
            "text/plain": [
              "<Figure size 720x504 with 2 Axes>"
            ]
          },
          "metadata": {
            "needs_background": "light"
          }
        }
      ]
    },
    {
      "cell_type": "code",
      "metadata": {
        "id": "H6yrmVdrSDD6"
      },
      "source": [
        "X = df.iloc[:,:-1].values\n",
        "y = df.iloc[:,-1].values"
      ],
      "execution_count": null,
      "outputs": []
    },
    {
      "cell_type": "code",
      "metadata": {
        "colab": {
          "base_uri": "https://localhost:8080/"
        },
        "id": "3Ovq94rVSt8I",
        "outputId": "016f1171-ce14-48f1-c989-0ad9944deec2"
      },
      "source": [
        "X\n"
      ],
      "execution_count": null,
      "outputs": [
        {
          "output_type": "execute_result",
          "data": {
            "text/plain": [
              "array([[  14.96,   41.76, 1024.07,   73.17],\n",
              "       [  25.18,   62.96, 1020.04,   59.08],\n",
              "       [   5.11,   39.4 , 1012.16,   92.14],\n",
              "       ...,\n",
              "       [  31.32,   74.33, 1012.92,   36.48],\n",
              "       [  24.48,   69.45, 1013.86,   62.39],\n",
              "       [  21.6 ,   62.52, 1017.23,   67.87]])"
            ]
          },
          "metadata": {},
          "execution_count": 10
        }
      ]
    },
    {
      "cell_type": "code",
      "metadata": {
        "colab": {
          "base_uri": "https://localhost:8080/"
        },
        "id": "Auw1L858SuqB",
        "outputId": "a21a7b2d-8b12-4aa1-874a-156a47ee262e"
      },
      "source": [
        "y"
      ],
      "execution_count": null,
      "outputs": [
        {
          "output_type": "execute_result",
          "data": {
            "text/plain": [
              "array([463.26, 444.37, 488.56, ..., 429.57, 435.74, 453.28])"
            ]
          },
          "metadata": {},
          "execution_count": 11
        }
      ]
    },
    {
      "cell_type": "code",
      "metadata": {
        "id": "XOVc0ggUSu-J"
      },
      "source": [
        "from sklearn.model_selection import train_test_split\n",
        "X_train,X_test,y_train,y_test  = train_test_split(X,y, test_size= 0.25, random_state=1 )"
      ],
      "execution_count": null,
      "outputs": []
    },
    {
      "cell_type": "markdown",
      "metadata": {
        "id": "FMQdgb5aTQpy"
      },
      "source": [
        "Buliding ANN"
      ]
    },
    {
      "cell_type": "code",
      "metadata": {
        "id": "yrFxqWxtTP2s"
      },
      "source": [
        "#initilizing ann\n",
        "ann = tf.keras.models.Sequential()"
      ],
      "execution_count": null,
      "outputs": []
    },
    {
      "cell_type": "code",
      "metadata": {
        "id": "qPTnO96mS93a"
      },
      "source": [
        "#1st Layer (adding inputlayer and hiddenlayer)\n",
        "ann.add(tf.keras.layers.Dense(units=6, activation='relu'))  "
      ],
      "execution_count": null,
      "outputs": []
    },
    {
      "cell_type": "code",
      "metadata": {
        "id": "JTKpOIMfT60S"
      },
      "source": [
        "#2nd Layer ( hiddenlayer)\n",
        "ann.add(tf.keras.layers.Dense(units=6, activation='relu'))"
      ],
      "execution_count": null,
      "outputs": []
    },
    {
      "cell_type": "code",
      "metadata": {
        "id": "wana4Is4T93g"
      },
      "source": [
        "ann.add(tf.keras.layers.Dense(units=1))"
      ],
      "execution_count": null,
      "outputs": []
    },
    {
      "cell_type": "markdown",
      "metadata": {
        "id": "aqWmJn_nVgAB"
      },
      "source": [
        "COMPILING AND TRAINING "
      ]
    },
    {
      "cell_type": "code",
      "metadata": {
        "id": "DwnluGAZVieh"
      },
      "source": [
        "ann.compile(optimizer='adam',loss='mean_squared_error')"
      ],
      "execution_count": null,
      "outputs": []
    },
    {
      "cell_type": "code",
      "metadata": {
        "colab": {
          "base_uri": "https://localhost:8080/"
        },
        "id": "oe4-M5XMXaig",
        "outputId": "3a05571e-a8c8-446b-daf4-ac84d4167fff"
      },
      "source": [
        "ann.fit(X_train,y_train, epochs = 150)"
      ],
      "execution_count": null,
      "outputs": [
        {
          "output_type": "stream",
          "name": "stdout",
          "text": [
            "Epoch 1/150\n",
            "225/225 [==============================] - 1s 1ms/step - loss: 65442.3242\n",
            "Epoch 2/150\n",
            "225/225 [==============================] - 0s 1ms/step - loss: 2419.1326\n",
            "Epoch 3/150\n",
            "225/225 [==============================] - 0s 1ms/step - loss: 408.2186\n",
            "Epoch 4/150\n",
            "225/225 [==============================] - 0s 1ms/step - loss: 398.1725\n",
            "Epoch 5/150\n",
            "225/225 [==============================] - 0s 1ms/step - loss: 392.9536\n",
            "Epoch 6/150\n",
            "225/225 [==============================] - 0s 1ms/step - loss: 386.4457\n",
            "Epoch 7/150\n",
            "225/225 [==============================] - 0s 1ms/step - loss: 379.4120\n",
            "Epoch 8/150\n",
            "225/225 [==============================] - 0s 1ms/step - loss: 371.3264\n",
            "Epoch 9/150\n",
            "225/225 [==============================] - 0s 1ms/step - loss: 362.3121\n",
            "Epoch 10/150\n",
            "225/225 [==============================] - 0s 1ms/step - loss: 352.5439\n",
            "Epoch 11/150\n",
            "225/225 [==============================] - 0s 1ms/step - loss: 341.8299\n",
            "Epoch 12/150\n",
            "225/225 [==============================] - 0s 1ms/step - loss: 330.4196\n",
            "Epoch 13/150\n",
            "225/225 [==============================] - 0s 1ms/step - loss: 318.1322\n",
            "Epoch 14/150\n",
            "225/225 [==============================] - 0s 1ms/step - loss: 304.9533\n",
            "Epoch 15/150\n",
            "225/225 [==============================] - 0s 1ms/step - loss: 291.5033\n",
            "Epoch 16/150\n",
            "225/225 [==============================] - 0s 1ms/step - loss: 277.4491\n",
            "Epoch 17/150\n",
            "225/225 [==============================] - 0s 1ms/step - loss: 262.9358\n",
            "Epoch 18/150\n",
            "225/225 [==============================] - 0s 1ms/step - loss: 247.6644\n",
            "Epoch 19/150\n",
            "225/225 [==============================] - 0s 1ms/step - loss: 232.4642\n",
            "Epoch 20/150\n",
            "225/225 [==============================] - 0s 1ms/step - loss: 217.2063\n",
            "Epoch 21/150\n",
            "225/225 [==============================] - 0s 1ms/step - loss: 202.1135\n",
            "Epoch 22/150\n",
            "225/225 [==============================] - 0s 1ms/step - loss: 186.8668\n",
            "Epoch 23/150\n",
            "225/225 [==============================] - 0s 1ms/step - loss: 172.0696\n",
            "Epoch 24/150\n",
            "225/225 [==============================] - 0s 1ms/step - loss: 158.1162\n",
            "Epoch 25/150\n",
            "225/225 [==============================] - 0s 1ms/step - loss: 144.6579\n",
            "Epoch 26/150\n",
            "225/225 [==============================] - 0s 1ms/step - loss: 131.5696\n",
            "Epoch 27/150\n",
            "225/225 [==============================] - 0s 1ms/step - loss: 119.4110\n",
            "Epoch 28/150\n",
            "225/225 [==============================] - 0s 1ms/step - loss: 108.1050\n",
            "Epoch 29/150\n",
            "225/225 [==============================] - 0s 1ms/step - loss: 97.2252\n",
            "Epoch 30/150\n",
            "225/225 [==============================] - 0s 1ms/step - loss: 87.5355\n",
            "Epoch 31/150\n",
            "225/225 [==============================] - 0s 1ms/step - loss: 78.9857\n",
            "Epoch 32/150\n",
            "225/225 [==============================] - 0s 1ms/step - loss: 70.8964\n",
            "Epoch 33/150\n",
            "225/225 [==============================] - 0s 1ms/step - loss: 63.9074\n",
            "Epoch 34/150\n",
            "225/225 [==============================] - 0s 1ms/step - loss: 56.8817\n",
            "Epoch 35/150\n",
            "225/225 [==============================] - 0s 1ms/step - loss: 51.5630\n",
            "Epoch 36/150\n",
            "225/225 [==============================] - 0s 1ms/step - loss: 46.6901\n",
            "Epoch 37/150\n",
            "225/225 [==============================] - 0s 1ms/step - loss: 42.5287\n",
            "Epoch 38/150\n",
            "225/225 [==============================] - 0s 1ms/step - loss: 39.1592\n",
            "Epoch 39/150\n",
            "225/225 [==============================] - 0s 1ms/step - loss: 36.1444\n",
            "Epoch 40/150\n",
            "225/225 [==============================] - 0s 1ms/step - loss: 33.8637\n",
            "Epoch 41/150\n",
            "225/225 [==============================] - 0s 1ms/step - loss: 32.5667\n",
            "Epoch 42/150\n",
            "225/225 [==============================] - 0s 1ms/step - loss: 30.7328\n",
            "Epoch 43/150\n",
            "225/225 [==============================] - 0s 1ms/step - loss: 29.7155\n",
            "Epoch 44/150\n",
            "225/225 [==============================] - 0s 1ms/step - loss: 28.9045\n",
            "Epoch 45/150\n",
            "225/225 [==============================] - 0s 1ms/step - loss: 28.1731\n",
            "Epoch 46/150\n",
            "225/225 [==============================] - 0s 1ms/step - loss: 27.9747\n",
            "Epoch 47/150\n",
            "225/225 [==============================] - 0s 1ms/step - loss: 27.4701\n",
            "Epoch 48/150\n",
            "225/225 [==============================] - 0s 1ms/step - loss: 27.2361\n",
            "Epoch 49/150\n",
            "225/225 [==============================] - 0s 1ms/step - loss: 27.4563\n",
            "Epoch 50/150\n",
            "225/225 [==============================] - 0s 1ms/step - loss: 27.1939\n",
            "Epoch 51/150\n",
            "225/225 [==============================] - 0s 1ms/step - loss: 27.2079\n",
            "Epoch 52/150\n",
            "225/225 [==============================] - 0s 1ms/step - loss: 26.8976\n",
            "Epoch 53/150\n",
            "225/225 [==============================] - 0s 1ms/step - loss: 26.8237\n",
            "Epoch 54/150\n",
            "225/225 [==============================] - 0s 1ms/step - loss: 26.6749\n",
            "Epoch 55/150\n",
            "225/225 [==============================] - 0s 1ms/step - loss: 26.6518\n",
            "Epoch 56/150\n",
            "225/225 [==============================] - 0s 1ms/step - loss: 26.6874\n",
            "Epoch 57/150\n",
            "225/225 [==============================] - 0s 1ms/step - loss: 26.5581\n",
            "Epoch 58/150\n",
            "225/225 [==============================] - 0s 1ms/step - loss: 26.9230\n",
            "Epoch 59/150\n",
            "225/225 [==============================] - 0s 1ms/step - loss: 26.9947\n",
            "Epoch 60/150\n",
            "225/225 [==============================] - 0s 1ms/step - loss: 26.7342\n",
            "Epoch 61/150\n",
            "225/225 [==============================] - 0s 1ms/step - loss: 27.1362\n",
            "Epoch 62/150\n",
            "225/225 [==============================] - 0s 1ms/step - loss: 26.4320\n",
            "Epoch 63/150\n",
            "225/225 [==============================] - 0s 1ms/step - loss: 26.5482\n",
            "Epoch 64/150\n",
            "225/225 [==============================] - 0s 1ms/step - loss: 26.4108\n",
            "Epoch 65/150\n",
            "225/225 [==============================] - 0s 1ms/step - loss: 26.4121\n",
            "Epoch 66/150\n",
            "225/225 [==============================] - 0s 1ms/step - loss: 26.3382\n",
            "Epoch 67/150\n",
            "225/225 [==============================] - 0s 1ms/step - loss: 26.3775\n",
            "Epoch 68/150\n",
            "225/225 [==============================] - 0s 1ms/step - loss: 26.3130\n",
            "Epoch 69/150\n",
            "225/225 [==============================] - 0s 1ms/step - loss: 26.3376\n",
            "Epoch 70/150\n",
            "225/225 [==============================] - 0s 1ms/step - loss: 26.4410\n",
            "Epoch 71/150\n",
            "225/225 [==============================] - 0s 1ms/step - loss: 26.4837\n",
            "Epoch 72/150\n",
            "225/225 [==============================] - 0s 1ms/step - loss: 26.3740\n",
            "Epoch 73/150\n",
            "225/225 [==============================] - 0s 1ms/step - loss: 26.4456\n",
            "Epoch 74/150\n",
            "225/225 [==============================] - 0s 1ms/step - loss: 26.4052\n",
            "Epoch 75/150\n",
            "225/225 [==============================] - 0s 1ms/step - loss: 26.3179\n",
            "Epoch 76/150\n",
            "225/225 [==============================] - 0s 1ms/step - loss: 26.3382\n",
            "Epoch 77/150\n",
            "225/225 [==============================] - 0s 1ms/step - loss: 26.7162\n",
            "Epoch 78/150\n",
            "225/225 [==============================] - 0s 1ms/step - loss: 26.5373\n",
            "Epoch 79/150\n",
            "225/225 [==============================] - 0s 1ms/step - loss: 26.3290\n",
            "Epoch 80/150\n",
            "225/225 [==============================] - 0s 1ms/step - loss: 26.3386\n",
            "Epoch 81/150\n",
            "225/225 [==============================] - 0s 1ms/step - loss: 26.2531\n",
            "Epoch 82/150\n",
            "225/225 [==============================] - 0s 1ms/step - loss: 26.3689\n",
            "Epoch 83/150\n",
            "225/225 [==============================] - 0s 1ms/step - loss: 26.3314\n",
            "Epoch 84/150\n",
            "225/225 [==============================] - 0s 1ms/step - loss: 26.4541\n",
            "Epoch 85/150\n",
            "225/225 [==============================] - 0s 1ms/step - loss: 26.4017\n",
            "Epoch 86/150\n",
            "225/225 [==============================] - 0s 2ms/step - loss: 26.0519\n",
            "Epoch 87/150\n",
            "225/225 [==============================] - 0s 1ms/step - loss: 26.4263\n",
            "Epoch 88/150\n",
            "225/225 [==============================] - 0s 1ms/step - loss: 26.5362\n",
            "Epoch 89/150\n",
            "225/225 [==============================] - 0s 1ms/step - loss: 26.1630\n",
            "Epoch 90/150\n",
            "225/225 [==============================] - 0s 1ms/step - loss: 26.1306\n",
            "Epoch 91/150\n",
            "225/225 [==============================] - 0s 1ms/step - loss: 26.3194\n",
            "Epoch 92/150\n",
            "225/225 [==============================] - 0s 1ms/step - loss: 26.1173\n",
            "Epoch 93/150\n",
            "225/225 [==============================] - 0s 1ms/step - loss: 26.3101\n",
            "Epoch 94/150\n",
            "225/225 [==============================] - 0s 1ms/step - loss: 26.4432\n",
            "Epoch 95/150\n",
            "225/225 [==============================] - 0s 2ms/step - loss: 26.1876\n",
            "Epoch 96/150\n",
            "225/225 [==============================] - 0s 2ms/step - loss: 26.0644\n",
            "Epoch 97/150\n",
            "225/225 [==============================] - 0s 2ms/step - loss: 26.2364\n",
            "Epoch 98/150\n",
            "225/225 [==============================] - 0s 2ms/step - loss: 26.5744\n",
            "Epoch 99/150\n",
            "225/225 [==============================] - 0s 1ms/step - loss: 26.0830\n",
            "Epoch 100/150\n",
            "225/225 [==============================] - 0s 1ms/step - loss: 26.3377\n",
            "Epoch 101/150\n",
            "225/225 [==============================] - 0s 1ms/step - loss: 26.0421\n",
            "Epoch 102/150\n",
            "225/225 [==============================] - 0s 1ms/step - loss: 26.0496\n",
            "Epoch 103/150\n",
            "225/225 [==============================] - 0s 1ms/step - loss: 26.0612\n",
            "Epoch 104/150\n",
            "225/225 [==============================] - 0s 1ms/step - loss: 26.2024\n",
            "Epoch 105/150\n",
            "225/225 [==============================] - 0s 1ms/step - loss: 26.3333\n",
            "Epoch 106/150\n",
            "225/225 [==============================] - 0s 1ms/step - loss: 26.2540\n",
            "Epoch 107/150\n",
            "225/225 [==============================] - 0s 1ms/step - loss: 26.0279\n",
            "Epoch 108/150\n",
            "225/225 [==============================] - 0s 1ms/step - loss: 26.2614\n",
            "Epoch 109/150\n",
            "225/225 [==============================] - 0s 1ms/step - loss: 26.1147\n",
            "Epoch 110/150\n",
            "225/225 [==============================] - 0s 1ms/step - loss: 25.9805\n",
            "Epoch 111/150\n",
            "225/225 [==============================] - 0s 1ms/step - loss: 26.2741\n",
            "Epoch 112/150\n",
            "225/225 [==============================] - 0s 1ms/step - loss: 26.1994\n",
            "Epoch 113/150\n",
            "225/225 [==============================] - 0s 1ms/step - loss: 26.2545\n",
            "Epoch 114/150\n",
            "225/225 [==============================] - 0s 1ms/step - loss: 26.1429\n",
            "Epoch 115/150\n",
            "225/225 [==============================] - 0s 1ms/step - loss: 25.9185\n",
            "Epoch 116/150\n",
            "225/225 [==============================] - 0s 1ms/step - loss: 26.1338\n",
            "Epoch 117/150\n",
            "225/225 [==============================] - 0s 1ms/step - loss: 26.1924\n",
            "Epoch 118/150\n",
            "225/225 [==============================] - 0s 1ms/step - loss: 26.2660\n",
            "Epoch 119/150\n",
            "225/225 [==============================] - 0s 2ms/step - loss: 26.0116\n",
            "Epoch 120/150\n",
            "225/225 [==============================] - 0s 1ms/step - loss: 26.1497\n",
            "Epoch 121/150\n",
            "225/225 [==============================] - 0s 1ms/step - loss: 26.1102\n",
            "Epoch 122/150\n",
            "225/225 [==============================] - 0s 1ms/step - loss: 26.2218\n",
            "Epoch 123/150\n",
            "225/225 [==============================] - 0s 1ms/step - loss: 26.1278\n",
            "Epoch 124/150\n",
            "225/225 [==============================] - 0s 1ms/step - loss: 26.0735\n",
            "Epoch 125/150\n",
            "225/225 [==============================] - 0s 1ms/step - loss: 25.8881\n",
            "Epoch 126/150\n",
            "225/225 [==============================] - 0s 1ms/step - loss: 26.4462\n",
            "Epoch 127/150\n",
            "225/225 [==============================] - 0s 1ms/step - loss: 26.0409\n",
            "Epoch 128/150\n",
            "225/225 [==============================] - 0s 1ms/step - loss: 26.4749\n",
            "Epoch 129/150\n",
            "225/225 [==============================] - 0s 1ms/step - loss: 26.3701\n",
            "Epoch 130/150\n",
            "225/225 [==============================] - 0s 1ms/step - loss: 26.3368\n",
            "Epoch 131/150\n",
            "225/225 [==============================] - 0s 1ms/step - loss: 26.1711\n",
            "Epoch 132/150\n",
            "225/225 [==============================] - 0s 1ms/step - loss: 26.0177\n",
            "Epoch 133/150\n",
            "225/225 [==============================] - 0s 2ms/step - loss: 25.8397\n",
            "Epoch 134/150\n",
            "225/225 [==============================] - 0s 1ms/step - loss: 25.6803\n",
            "Epoch 135/150\n",
            "225/225 [==============================] - 0s 1ms/step - loss: 25.6790\n",
            "Epoch 136/150\n",
            "225/225 [==============================] - 0s 2ms/step - loss: 25.7752\n",
            "Epoch 137/150\n",
            "225/225 [==============================] - 0s 1ms/step - loss: 25.6304\n",
            "Epoch 138/150\n",
            "225/225 [==============================] - 0s 1ms/step - loss: 25.5194\n",
            "Epoch 139/150\n",
            "225/225 [==============================] - 0s 1ms/step - loss: 25.2973\n",
            "Epoch 140/150\n",
            "225/225 [==============================] - 0s 1ms/step - loss: 25.4715\n",
            "Epoch 141/150\n",
            "225/225 [==============================] - 0s 1ms/step - loss: 25.5687\n",
            "Epoch 142/150\n",
            "225/225 [==============================] - 0s 1ms/step - loss: 25.0729\n",
            "Epoch 143/150\n",
            "225/225 [==============================] - 0s 1ms/step - loss: 25.3123\n",
            "Epoch 144/150\n",
            "225/225 [==============================] - 0s 1ms/step - loss: 24.9610\n",
            "Epoch 145/150\n",
            "225/225 [==============================] - 0s 1ms/step - loss: 24.7667\n",
            "Epoch 146/150\n",
            "225/225 [==============================] - 0s 1ms/step - loss: 24.7361\n",
            "Epoch 147/150\n",
            "225/225 [==============================] - 0s 1ms/step - loss: 24.9014\n",
            "Epoch 148/150\n",
            "225/225 [==============================] - 0s 1ms/step - loss: 24.6757\n",
            "Epoch 149/150\n",
            "225/225 [==============================] - 0s 1ms/step - loss: 24.8543\n",
            "Epoch 150/150\n",
            "225/225 [==============================] - 0s 1ms/step - loss: 24.8561\n"
          ]
        },
        {
          "output_type": "execute_result",
          "data": {
            "text/plain": [
              "<keras.callbacks.History at 0x7f4e5bd73150>"
            ]
          },
          "metadata": {},
          "execution_count": 17
        }
      ]
    },
    {
      "cell_type": "markdown",
      "metadata": {
        "id": "nx5lDooqX_7D"
      },
      "source": [
        "Predection on Testset"
      ]
    },
    {
      "cell_type": "code",
      "metadata": {
        "id": "k0t_08IMYDBP"
      },
      "source": [
        "y_pred=ann.predict(X_test)\n",
        "np.set_printoptions(precision=2)"
      ],
      "execution_count": null,
      "outputs": []
    },
    {
      "cell_type": "code",
      "metadata": {
        "id": "r92M_NCeah8g"
      },
      "source": [
        "df1=pd.DataFrame()"
      ],
      "execution_count": null,
      "outputs": []
    },
    {
      "cell_type": "code",
      "metadata": {
        "id": "u3d30ECfaqyw"
      },
      "source": [
        "df1[\"Predction\"] = pd.Series(list(y_pred))\n",
        "df1[\"Original_value\"] = pd.Series(list(y_test))"
      ],
      "execution_count": null,
      "outputs": []
    },
    {
      "cell_type": "code",
      "metadata": {
        "colab": {
          "base_uri": "https://localhost:8080/",
          "height": 415
        },
        "id": "PLe3Q4INarPn",
        "outputId": "ab90509e-da2c-4a2f-9657-bed7626a7982"
      },
      "source": [
        "df1"
      ],
      "execution_count": null,
      "outputs": [
        {
          "output_type": "execute_result",
          "data": {
            "text/html": [
              "<div>\n",
              "<style scoped>\n",
              "    .dataframe tbody tr th:only-of-type {\n",
              "        vertical-align: middle;\n",
              "    }\n",
              "\n",
              "    .dataframe tbody tr th {\n",
              "        vertical-align: top;\n",
              "    }\n",
              "\n",
              "    .dataframe thead th {\n",
              "        text-align: right;\n",
              "    }\n",
              "</style>\n",
              "<table border=\"1\" class=\"dataframe\">\n",
              "  <thead>\n",
              "    <tr style=\"text-align: right;\">\n",
              "      <th></th>\n",
              "      <th>Predction</th>\n",
              "      <th>Original_value</th>\n",
              "    </tr>\n",
              "  </thead>\n",
              "  <tbody>\n",
              "    <tr>\n",
              "      <th>0</th>\n",
              "      <td>[453.83948]</td>\n",
              "      <td>458.96</td>\n",
              "    </tr>\n",
              "    <tr>\n",
              "      <th>1</th>\n",
              "      <td>[460.68417]</td>\n",
              "      <td>463.29</td>\n",
              "    </tr>\n",
              "    <tr>\n",
              "      <th>2</th>\n",
              "      <td>[438.78293]</td>\n",
              "      <td>435.27</td>\n",
              "    </tr>\n",
              "    <tr>\n",
              "      <th>3</th>\n",
              "      <td>[482.3453]</td>\n",
              "      <td>484.31</td>\n",
              "    </tr>\n",
              "    <tr>\n",
              "      <th>4</th>\n",
              "      <td>[470.06073]</td>\n",
              "      <td>473.55</td>\n",
              "    </tr>\n",
              "    <tr>\n",
              "      <th>...</th>\n",
              "      <td>...</td>\n",
              "      <td>...</td>\n",
              "    </tr>\n",
              "    <tr>\n",
              "      <th>2387</th>\n",
              "      <td>[434.6411]</td>\n",
              "      <td>435.56</td>\n",
              "    </tr>\n",
              "    <tr>\n",
              "      <th>2388</th>\n",
              "      <td>[443.93753]</td>\n",
              "      <td>443.91</td>\n",
              "    </tr>\n",
              "    <tr>\n",
              "      <th>2389</th>\n",
              "      <td>[457.43332]</td>\n",
              "      <td>464.44</td>\n",
              "    </tr>\n",
              "    <tr>\n",
              "      <th>2390</th>\n",
              "      <td>[428.48065]</td>\n",
              "      <td>426.93</td>\n",
              "    </tr>\n",
              "    <tr>\n",
              "      <th>2391</th>\n",
              "      <td>[435.95462]</td>\n",
              "      <td>440.17</td>\n",
              "    </tr>\n",
              "  </tbody>\n",
              "</table>\n",
              "<p>2392 rows × 2 columns</p>\n",
              "</div>"
            ],
            "text/plain": [
              "        Predction  Original_value\n",
              "0     [453.83948]          458.96\n",
              "1     [460.68417]          463.29\n",
              "2     [438.78293]          435.27\n",
              "3      [482.3453]          484.31\n",
              "4     [470.06073]          473.55\n",
              "...           ...             ...\n",
              "2387   [434.6411]          435.56\n",
              "2388  [443.93753]          443.91\n",
              "2389  [457.43332]          464.44\n",
              "2390  [428.48065]          426.93\n",
              "2391  [435.95462]          440.17\n",
              "\n",
              "[2392 rows x 2 columns]"
            ]
          },
          "metadata": {},
          "execution_count": 29
        }
      ]
    },
    {
      "cell_type": "code",
      "metadata": {
        "colab": {
          "base_uri": "https://localhost:8080/"
        },
        "id": "acSxFdCdcKyM",
        "outputId": "b5efbf3b-5415-4dcb-d9fe-5cdb28f99c12"
      },
      "source": [
        "print(ann.predict([[14.67,54.23,1002.65,91.34]]))"
      ],
      "execution_count": null,
      "outputs": [
        {
          "output_type": "stream",
          "name": "stdout",
          "text": [
            "[[455.79]]\n"
          ]
        }
      ]
    },
    {
      "cell_type": "code",
      "metadata": {
        "id": "x3Ji8SebdEAX"
      },
      "source": [
        ""
      ],
      "execution_count": null,
      "outputs": []
    }
  ]
}